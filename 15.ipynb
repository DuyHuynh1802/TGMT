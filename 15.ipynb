{
 "cells": [
  {
   "cell_type": "code",
   "execution_count": 1,
   "id": "57c2b3f6-b34f-4a5f-9305-8f68761a8695",
   "metadata": {},
   "outputs": [],
   "source": [
    "#!pip install scipy\n",
    "from scipy import linalg\n",
    "import numpy as np"
   ]
  },
  {
   "cell_type": "code",
   "execution_count": 2,
   "id": "f3132fd6-6e83-4266-bc22-f5b15426a446",
   "metadata": {},
   "outputs": [
    {
     "name": "stdout",
     "output_type": "stream",
     "text": [
      "Kết quả:  [ 6. -1.]\n"
     ]
    }
   ],
   "source": [
    "a = np.array([[1, 2],[2, 3]])\n",
    "b = np.array([4,9])\n",
    "x = linalg.solve(a, b)\n",
    "print(\"Kết quả: \", x)"
   ]
  },
  {
   "cell_type": "code",
   "execution_count": 3,
   "id": "6d6052d7-1b28-48fd-89f2-6664ecc6eb9c",
   "metadata": {},
   "outputs": [
    {
     "name": "stdout",
     "output_type": "stream",
     "text": [
      "Tích phân f(x) từ 0 đến 1:  (0.33333333333333337, 3.700743415417189e-15)\n"
     ]
    }
   ],
   "source": [
    "from scipy import integrate\n",
    "def my_func(x):\n",
    "    return x**2\n",
    "\n",
    "integral = integrate.quad(my_func, 0, 1);\n",
    "print(\"Tích phân f(x) từ 0 đến 1: \", integral)"
   ]
  },
  {
   "cell_type": "code",
   "execution_count": 4,
   "id": "a63eddd3-c577-49e5-8fe9-22036be5786b",
   "metadata": {},
   "outputs": [
    {
     "name": "stdout",
     "output_type": "stream",
     "text": [
      "Giá trị riêng:  [ 5.37228132+0.j -0.37228132+0.j]\n",
      "Vector riêng:  [[ 0.64456735 -0.51010647]\n",
      " [ 0.76454754  0.86011126]]\n"
     ]
    }
   ],
   "source": [
    "#!pip install scipy\n",
    "from scipy import linalg\n",
    "import numpy as np\n",
    "\n",
    "A = np.array([[3,2], [4,2]])\n",
    "evals, evecs = linalg.eig(A)\n",
    "\n",
    "print(\"Giá trị riêng: \", evals)\n",
    "print(\"Vector riêng: \", evecs)"
   ]
  },
  {
   "cell_type": "code",
   "execution_count": null,
   "id": "fe194a92-75ac-413e-884d-1e75d55a4a6d",
   "metadata": {},
   "outputs": [],
   "source": []
  }
 ],
 "metadata": {
  "kernelspec": {
   "display_name": "Python 3 (ipykernel)",
   "language": "python",
   "name": "python3"
  },
  "language_info": {
   "codemirror_mode": {
    "name": "ipython",
    "version": 3
   },
   "file_extension": ".py",
   "mimetype": "text/x-python",
   "name": "python",
   "nbconvert_exporter": "python",
   "pygments_lexer": "ipython3",
   "version": "3.12.4"
  }
 },
 "nbformat": 4,
 "nbformat_minor": 5
}
