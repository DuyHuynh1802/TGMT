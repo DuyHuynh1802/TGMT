{
 "cells": [
  {
   "cell_type": "code",
   "execution_count": 1,
   "id": "8c99fba1-489a-4abc-b7b3-a309bdf8870c",
   "metadata": {},
   "outputs": [],
   "source": [
    "#!pip install opencv-python"
   ]
  },
  {
   "cell_type": "code",
   "execution_count": 2,
   "id": "35172423-5c5a-477b-998c-319168eb7b00",
   "metadata": {},
   "outputs": [],
   "source": [
    "def display(title, img):\n",
    "    cv2.imshow(title, img)\n",
    "    cv2.waitKey(0)\n",
    "    cv2.destroyWindow(title)"
   ]
  },
  {
   "cell_type": "code",
   "execution_count": 3,
   "id": "e13b5d00-a053-41d1-a6ee-8b9fdccdfe6f",
   "metadata": {},
   "outputs": [],
   "source": [
    "import cv2"
   ]
  },
  {
   "cell_type": "code",
   "execution_count": 4,
   "id": "0ba62d74-3099-41a2-8093-449d9902f067",
   "metadata": {},
   "outputs": [
    {
     "name": "stdout",
     "output_type": "stream",
     "text": [
      "[[[135  94  32]\n",
      "  [135  94  32]\n",
      "  [135  94  32]\n",
      "  ...\n",
      "  [ 50  32  15]\n",
      "  [ 50  32  15]\n",
      "  [ 50  32  15]]\n",
      "\n",
      " [[135  94  32]\n",
      "  [135  94  32]\n",
      "  [135  94  32]\n",
      "  ...\n",
      "  [ 50  32  15]\n",
      "  [ 50  32  15]\n",
      "  [ 50  32  15]]\n",
      "\n",
      " [[135  94  31]\n",
      "  [135  94  31]\n",
      "  [135  94  31]\n",
      "  ...\n",
      "  [ 50  32  15]\n",
      "  [ 50  32  15]\n",
      "  [ 50  32  15]]\n",
      "\n",
      " ...\n",
      "\n",
      " [[ 22  48  34]\n",
      "  [ 22  48  34]\n",
      "  [ 23  49  35]\n",
      "  ...\n",
      "  [  4  44  32]\n",
      "  [ 13  53  41]\n",
      "  [ 10  50  38]]\n",
      "\n",
      " [[ 23  52  37]\n",
      "  [ 23  52  37]\n",
      "  [ 27  53  39]\n",
      "  ...\n",
      "  [ 15  53  41]\n",
      "  [ 13  51  39]\n",
      "  [ 15  53  41]]\n",
      "\n",
      " [[ 20  51  36]\n",
      "  [ 20  51  36]\n",
      "  [ 26  55  40]\n",
      "  ...\n",
      "  [ 28  64  52]\n",
      "  [ 12  48  36]\n",
      "  [ 19  55  43]]]\n"
     ]
    }
   ],
   "source": [
    "path= 'C:/Users/philo/Desktop/Picture/1.jpg'\n",
    "img = cv2.imread(path)\n",
    "print(img)"
   ]
  },
  {
   "cell_type": "code",
   "execution_count": 5,
   "id": "9a16eebd-a8d2-4ed3-91fc-3d0172827473",
   "metadata": {},
   "outputs": [
    {
     "name": "stdout",
     "output_type": "stream",
     "text": [
      "(399, 599, 3)\n",
      "399\n",
      "599\n",
      "3\n"
     ]
    }
   ],
   "source": [
    "print(img.shape)\n",
    "x, y, z = img.shape\n",
    "print(x)\n",
    "print(y)\n",
    "print(z)"
   ]
  },
  {
   "cell_type": "code",
   "execution_count": 6,
   "id": "3b05899c-252a-42d3-91e1-50b948e74f86",
   "metadata": {},
   "outputs": [],
   "source": [
    "cv2.imshow('Window', img)\n",
    "cv2.waitKey(10000)\n",
    "cv2.destroyWindow('Window')"
   ]
  },
  {
   "cell_type": "code",
   "execution_count": null,
   "id": "c63bf995-f27c-49aa-ab52-d6a01b814067",
   "metadata": {},
   "outputs": [],
   "source": [
    "b, g, r = cv2.split(img)\n",
    "cv2.imshow('Window', img)\n",
    "cv2.imshow('Red', r)\n",
    "cv2.imshow('Green', g)\n",
    "cv2.imshow('Blue', b)\n",
    "\n",
    "cv2.waitKey(0)\n",
    "cv2.destroyAllWindows()"
   ]
  },
  {
   "cell_type": "code",
   "execution_count": null,
   "id": "ace670c2-6141-467e-9cdb-3699860e7a60",
   "metadata": {},
   "outputs": [],
   "source": [
    "gray_img = cv2.cvtColor(img, cv2.COLOR_BGR2GRAY)\n",
    "img_2 = cv2.cvtColor(img, cv2.COLOR_BGR2RGB)\n",
    "cv2.imshow('Window', img)\n",
    "cv2.imshow('gray_img', gray_img)\n",
    "cv2.imshow('img_2', img_2)\n",
    "\n",
    "cv2.waitKey(0)\n",
    "cv2.destroyAllWindows()"
   ]
  },
  {
   "cell_type": "code",
   "execution_count": null,
   "id": "ffdb69aa-667c-43fe-92cc-1992b2413372",
   "metadata": {},
   "outputs": [],
   "source": [
    "height, width, z = img.shape\n",
    "quater_h = height/2\n",
    "quater_w = width/2\n",
    "\n",
    "green_color = (0,255,0)\n",
    "img2 = img.copy()\n",
    "\n",
    "for y in range(int(quater_h)):\n",
    "    for x in range(int(quater_w)):\n",
    "        img2[y, x] = green_color\n",
    "\n",
    "display('Window', img)\n",
    "display('Window-2', img2)"
   ]
  },
  {
   "cell_type": "code",
   "execution_count": null,
   "id": "0e7c02c8-74ff-4a89-8665-d60859138467",
   "metadata": {},
   "outputs": [],
   "source": []
  }
 ],
 "metadata": {
  "kernelspec": {
   "display_name": "Python 3 (ipykernel)",
   "language": "python",
   "name": "python3"
  },
  "language_info": {
   "codemirror_mode": {
    "name": "ipython",
    "version": 3
   },
   "file_extension": ".py",
   "mimetype": "text/x-python",
   "name": "python",
   "nbconvert_exporter": "python",
   "pygments_lexer": "ipython3",
   "version": "3.12.4"
  }
 },
 "nbformat": 4,
 "nbformat_minor": 5
}
