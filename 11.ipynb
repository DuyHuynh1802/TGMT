{
 "cells": [
  {
   "cell_type": "code",
   "execution_count": 1,
   "id": "08f82478-5271-4468-abb7-6aa48bff3c1f",
   "metadata": {},
   "outputs": [],
   "source": [
    "import numpy as np"
   ]
  },
  {
   "cell_type": "code",
   "execution_count": 2,
   "id": "39bfe567-0254-4f31-acc2-7762641c6f5d",
   "metadata": {},
   "outputs": [],
   "source": [
    "arr = np.array([2,4,6,8])"
   ]
  },
  {
   "cell_type": "code",
   "execution_count": 3,
   "id": "d1069dcd-5bbc-45fe-ba99-50f57f01bb96",
   "metadata": {},
   "outputs": [
    {
     "name": "stdout",
     "output_type": "stream",
     "text": [
      "Mảng:  [2 4 6 8]\n"
     ]
    }
   ],
   "source": [
    "print(\"Mảng: \", arr)"
   ]
  },
  {
   "cell_type": "code",
   "execution_count": 4,
   "id": "b6aa0461-b4fc-40a6-a874-7812005210df",
   "metadata": {},
   "outputs": [
    {
     "name": "stdout",
     "output_type": "stream",
     "text": [
      "Phần tử ở vị trí số 2:  6\n"
     ]
    }
   ],
   "source": [
    "print(\"Phần tử ở vị trí số 2: \", arr[2])"
   ]
  },
  {
   "cell_type": "code",
   "execution_count": 5,
   "id": "67a588a1-f56c-4019-8595-b52a680250be",
   "metadata": {},
   "outputs": [
    {
     "name": "stdout",
     "output_type": "stream",
     "text": [
      "Mảng 2 chiều:\n",
      "[[1 3 5]\n",
      " [2 4 6]\n",
      " [7 8 9]]\n",
      "Phần tử ở hàng 2 cột 1:  8\n"
     ]
    }
   ],
   "source": [
    "matrix = np.array([[1, 3, 5], [2, 4, 6], [7, 8, 9]])\n",
    "print(\"Mảng 2 chiều:\")\n",
    "print(matrix)\n",
    "\n",
    "e = matrix[2, 1]\n",
    "print(\"Phần tử ở hàng 2 cột 1: \", e)"
   ]
  },
  {
   "cell_type": "code",
   "execution_count": 6,
   "id": "85da38e1-0fe0-49f1-a8a8-34758e63398a",
   "metadata": {},
   "outputs": [
    {
     "name": "stdout",
     "output_type": "stream",
     "text": [
      "Mảng có 10 số 0:  [0. 0. 0. 0. 0. 0. 0. 0. 0. 0.]\n",
      "Mảng có 3 số 1:  [1. 1. 1.]\n",
      "Mảng rỗng:  [2.12199579e-314 4.67296746e-307 6.10665138e-321 6.95271921e-310\n",
      " 3.59413192e-317]\n",
      "Mảng tăng dần từ 0 đến 29 [ 0  1  2  3  4  5  6  7  8  9 10 11 12 13 14 15 16 17 18 19 20 21 22 23\n",
      " 24 25 26 27 28 29]\n",
      "Mảng gồm 4 số có khoảng cách bằng nhau:  [ 3.  6.  9. 12.]\n"
     ]
    },
    {
     "data": {
      "text/plain": [
       "array([1, 1, 1], dtype=int64)"
      ]
     },
     "execution_count": 6,
     "metadata": {},
     "output_type": "execute_result"
    }
   ],
   "source": [
    "arr = np.zeros(10)\n",
    "print(\"Mảng có 10 số 0: \", arr)\n",
    "\n",
    "arr = np.ones(3)\n",
    "print(\"Mảng có 3 số 1: \", arr)\n",
    "\n",
    "arr = np.empty(5)\n",
    "print(\"Mảng rỗng: \", arr)\n",
    "\n",
    "arr = np.arange(30)\n",
    "print(\"Mảng tăng dần từ 0 đến 29\", arr)\n",
    "\n",
    "arr = np.linspace(3, 12, num=4)\n",
    "print(\"Mảng gồm 4 số có khoảng cách bằng nhau: \", arr)\n",
    "\n",
    "arr = np.ones(3, dtype=np.int64)\n",
    "arr"
   ]
  },
  {
   "cell_type": "code",
   "execution_count": 7,
   "id": "825c7006-dd82-4305-ac43-b24945078306",
   "metadata": {},
   "outputs": [
    {
     "name": "stdout",
     "output_type": "stream",
     "text": [
      "Mảng:  [1 5 3 7 9]\n"
     ]
    }
   ],
   "source": [
    "arr = np.array([1, 5, 3, 7, 9])\n",
    "print(\"Mảng: \", arr)"
   ]
  },
  {
   "cell_type": "code",
   "execution_count": 8,
   "id": "571d2e62-336d-4f59-9e15-4bd73c491a3c",
   "metadata": {},
   "outputs": [
    {
     "name": "stdout",
     "output_type": "stream",
     "text": [
      "Sắp xếp tăng dần:  [1 3 5 7 9]\n"
     ]
    }
   ],
   "source": [
    "arr = np.sort(arr)\n",
    "print(\"Sắp xếp tăng dần: \", arr)"
   ]
  },
  {
   "cell_type": "code",
   "execution_count": 9,
   "id": "b1d07302-aa1a-431d-bddc-79bceb04e6c0",
   "metadata": {},
   "outputs": [
    {
     "name": "stdout",
     "output_type": "stream",
     "text": [
      "Sắp xếp ngược:  [9 7 5 3 1]\n"
     ]
    }
   ],
   "source": [
    "arr = np.sort(arr)[::-1]\n",
    "print(\"Sắp xếp ngược: \", arr)"
   ]
  },
  {
   "cell_type": "code",
   "execution_count": 10,
   "id": "a7cd6862-01e0-40d2-a942-1bc68b5c62de",
   "metadata": {},
   "outputs": [
    {
     "name": "stdout",
     "output_type": "stream",
     "text": [
      "Thêm phần tử vào cuối mảng:  [ 9  7  5  3  1 11]\n"
     ]
    }
   ],
   "source": [
    "arr = np.append(arr, 11)\n",
    "print(\"Thêm phần tử vào cuối mảng: \", arr)"
   ]
  },
  {
   "cell_type": "code",
   "execution_count": 11,
   "id": "10fc8298-cb0f-4d34-b094-083db87d2775",
   "metadata": {},
   "outputs": [
    {
     "name": "stdout",
     "output_type": "stream",
     "text": [
      "Xóa phần tử ở vị trí số 4:  [ 9  7  5  3 11]\n"
     ]
    }
   ],
   "source": [
    "arr = np.delete(arr, 4)\n",
    "print(\"Xóa phần tử ở vị trí số 4: \", arr)"
   ]
  },
  {
   "cell_type": "code",
   "execution_count": 12,
   "id": "15c9b731-d379-42ba-a323-0c8e305326c1",
   "metadata": {},
   "outputs": [
    {
     "name": "stdout",
     "output_type": "stream",
     "text": [
      "Sắp xếp hàng tăng dần: \n",
      "[[7 8 9]\n",
      " [1 2 3]\n",
      " [4 5 6]]\n",
      "Sắp xếp cột tăng dần: \n",
      "[[3 1 2]\n",
      " [5 6 4]\n",
      " [9 7 8]]\n",
      "Sắp xếp hàng giảm dần: \n",
      "[[9 8 7]\n",
      " [3 2 1]\n",
      " [6 5 4]]\n",
      "Sắp xếp cột giảm dần: \n",
      "[[9 7 8]\n",
      " [5 6 4]\n",
      " [3 1 2]]\n"
     ]
    }
   ],
   "source": [
    "arr = np.array([[9, 7, 8],\n",
    "                [3, 1, 2],\n",
    "                [5, 6, 4]])\n",
    "\n",
    "sorted_by_row = np.sort(arr, axis=1)\n",
    "print(\"Sắp xếp hàng tăng dần: \")\n",
    "print(sorted_by_row)\n",
    "\n",
    "sorted_by_column = np.sort(arr, axis=0)\n",
    "print(\"Sắp xếp cột tăng dần: \")\n",
    "print(sorted_by_column)\n",
    "\n",
    "sorted_by_row = -np.sort(-arr, axis=1)\n",
    "print(\"Sắp xếp hàng giảm dần: \")\n",
    "print(sorted_by_row)\n",
    "\n",
    "sorted_by_row = -np.sort(-arr, axis=0)\n",
    "print(\"Sắp xếp cột giảm dần: \")\n",
    "print(sorted_by_row)"
   ]
  },
  {
   "cell_type": "code",
   "execution_count": 13,
   "id": "3b47c4f1-6450-4310-bb43-d5ce4bbeda74",
   "metadata": {},
   "outputs": [
    {
     "name": "stdout",
     "output_type": "stream",
     "text": [
      "Số chiều:  2\n",
      "Kích thước:  6\n",
      "Số hàng - số cột:  (2, 3)\n"
     ]
    }
   ],
   "source": [
    "arr = np.array([[1, 3, 5], [2, 4, 6]])\n",
    "ndim = arr.ndim\n",
    "size = arr.size\n",
    "shape = arr.shape\n",
    "\n",
    "print(\"Số chiều: \", ndim)\n",
    "print(\"Kích thước: \", size)\n",
    "print(\"Số hàng - số cột: \", shape)"
   ]
  },
  {
   "cell_type": "code",
   "execution_count": 14,
   "id": "db5d187c-8329-43f6-ba86-82dd045b8c30",
   "metadata": {},
   "outputs": [
    {
     "name": "stdout",
     "output_type": "stream",
     "text": [
      "Đổi kiểu dữ liệu mảng:  [1. 2. 3. 4. 5.]\n"
     ]
    }
   ],
   "source": [
    "arr = np.array([1, 2, 3, 4, 5])\n",
    "float_arr = arr.astype(float)\n",
    "print(\"Đổi kiểu dữ liệu mảng: \", float_arr)"
   ]
  },
  {
   "cell_type": "code",
   "execution_count": 15,
   "id": "72b6448e-d2d2-4faa-8328-414613c5772a",
   "metadata": {},
   "outputs": [
    {
     "name": "stdout",
     "output_type": "stream",
     "text": [
      "Đổi thành mảng 2 chiều có 2 hàng 3 cột:\n",
      "[[1 2 3]\n",
      " [4 5 6]]\n",
      "Đổi thành mảng 2 chiều có 3 hàng 2 cột:\n",
      "[[1 2]\n",
      " [3 4]\n",
      " [5 6]]\n"
     ]
    }
   ],
   "source": [
    "arr = np.array([1, 2, 3, 4, 5, 6])\n",
    "reshaped_arr = arr.reshape(2,3)\n",
    "print(\"Đổi thành mảng 2 chiều có 2 hàng 3 cột:\")\n",
    "print(reshaped_arr)\n",
    "reshaped_arr = arr.reshape(3,2)\n",
    "print(\"Đổi thành mảng 2 chiều có 3 hàng 2 cột:\")\n",
    "print(reshaped_arr)"
   ]
  },
  {
   "cell_type": "code",
   "execution_count": 16,
   "id": "ac90ae35-a45d-4375-b16b-b1a3e6d41d2c",
   "metadata": {},
   "outputs": [
    {
     "name": "stdout",
     "output_type": "stream",
     "text": [
      "Đổi mảng 2 chiều thành 1 chiều:  [1 2 3 4 5 6]\n"
     ]
    }
   ],
   "source": [
    "reshaped_arr = reshaped_arr.flatten()\n",
    "print(\"Đổi mảng 2 chiều thành 1 chiều: \", reshaped_arr)"
   ]
  },
  {
   "cell_type": "code",
   "execution_count": 17,
   "id": "02a48ed6-dbcb-4ea1-92c2-42fbe5f9419e",
   "metadata": {},
   "outputs": [
    {
     "name": "stdout",
     "output_type": "stream",
     "text": [
      "Cắt phần tử 1 đến phần tử 3:  [3 5 7]\n"
     ]
    }
   ],
   "source": [
    "arr = np.array([1, 3, 5, 7, 9])\n",
    "\n",
    "array_slice = arr[1:4]\n",
    "print(\"Cắt phần tử 1 đến phần tử 3: \", array_slice)"
   ]
  },
  {
   "cell_type": "code",
   "execution_count": 18,
   "id": "f4b4dddc-0a79-4691-98f6-7aeee3b0a3ba",
   "metadata": {},
   "outputs": [
    {
     "name": "stdout",
     "output_type": "stream",
     "text": [
      "Cắt phần tử 1 đến phần tử cuối - 1: [1 3 5 7]\n"
     ]
    }
   ],
   "source": [
    "array_slice = arr[:-1]\n",
    "print(\"Cắt phần tử 1 đến phần tử cuối - 1:\", array_slice)"
   ]
  },
  {
   "cell_type": "code",
   "execution_count": 19,
   "id": "2f186f51-d858-4f93-a6fb-7903f2625d4e",
   "metadata": {},
   "outputs": [
    {
     "name": "stdout",
     "output_type": "stream",
     "text": [
      "Cắt phần tử 3 tính từ cuối mảng đến hết: [5 7 9]\n"
     ]
    }
   ],
   "source": [
    "array_slice = arr[-3:]\n",
    "print(\"Cắt phần tử 3 tính từ cuối mảng đến hết:\", array_slice)"
   ]
  },
  {
   "cell_type": "code",
   "execution_count": 20,
   "id": "b67c2eef-21d3-4da0-81f8-cfccb4862775",
   "metadata": {},
   "outputs": [
    {
     "name": "stdout",
     "output_type": "stream",
     "text": [
      "Hoán đổi hàng thành cột:\n",
      "[[1 4]\n",
      " [2 5]\n",
      " [3 6]]\n"
     ]
    }
   ],
   "source": [
    "arr = np.array([[1, 2, 3], [4, 5, 6]])\n",
    "transposed_arr = arr.T\n",
    "print(\"Hoán đổi hàng thành cột:\")\n",
    "print(transposed_arr)"
   ]
  },
  {
   "cell_type": "code",
   "execution_count": 21,
   "id": "d10a81f8-158d-4827-8258-c12feb784ee1",
   "metadata": {},
   "outputs": [
    {
     "name": "stdout",
     "output_type": "stream",
     "text": [
      "Nối mảng:  [2 4 6 1 3 5]\n"
     ]
    }
   ],
   "source": [
    "arr1 = np.array([2, 4, 6])\n",
    "arr2 = np.array([1, 3, 5])\n",
    "new_arr = np.concatenate((arr1, arr2))\n",
    "print(\"Nối mảng: \", new_arr)"
   ]
  },
  {
   "cell_type": "code",
   "execution_count": 22,
   "id": "d15b8123-67f6-4cc4-8581-1037acdb9d1f",
   "metadata": {},
   "outputs": [
    {
     "name": "stdout",
     "output_type": "stream",
     "text": [
      "Tổng của mảng: 15\n"
     ]
    }
   ],
   "source": [
    "arr = np.array([1, 2, 3, 4, 5])\n",
    "sum_array = np.sum(arr)\n",
    "print(\"Tổng của mảng:\", sum_array)"
   ]
  },
  {
   "cell_type": "code",
   "execution_count": 23,
   "id": "aa7c6e77-5a37-45cd-a975-be5288143595",
   "metadata": {},
   "outputs": [
    {
     "name": "stdout",
     "output_type": "stream",
     "text": [
      "Giá trị trung bình của mảng: 3.0\n"
     ]
    }
   ],
   "source": [
    "average = np.mean(arr)\n",
    "print(\"Giá trị trung bình của mảng:\", average)"
   ]
  },
  {
   "cell_type": "code",
   "execution_count": 24,
   "id": "b76e2f31-bc72-4ae1-a75c-827107919ac8",
   "metadata": {},
   "outputs": [
    {
     "name": "stdout",
     "output_type": "stream",
     "text": [
      "Giá trị lớn nhất: 5\n",
      "Giá trị nhỏ nhất: 1\n"
     ]
    }
   ],
   "source": [
    "max = np.max(arr)\n",
    "min = np.min(arr)\n",
    "print(\"Giá trị lớn nhất:\", max)\n",
    "print(\"Giá trị nhỏ nhất:\", min)"
   ]
  },
  {
   "cell_type": "code",
   "execution_count": 25,
   "id": "d76dc8fa-c2b5-403b-93c1-e8af2c147732",
   "metadata": {},
   "outputs": [
    {
     "name": "stdout",
     "output_type": "stream",
     "text": [
      "Độ lệch chuẩn của mảng: 1.4142135623730951\n"
     ]
    }
   ],
   "source": [
    "std = np.std(arr)\n",
    "print(\"Độ lệch chuẩn của mảng:\", std)"
   ]
  },
  {
   "cell_type": "code",
   "execution_count": 26,
   "id": "0bc6f332-b717-41cf-b70e-1e6a26bddf5f",
   "metadata": {},
   "outputs": [
    {
     "name": "stdout",
     "output_type": "stream",
     "text": [
      "Phương sai của mảng: 2.0\n"
     ]
    }
   ],
   "source": [
    "variance = np.var(arr)\n",
    "print(\"Phương sai của mảng:\", variance)"
   ]
  },
  {
   "cell_type": "code",
   "execution_count": 27,
   "id": "879b2c82-b2b5-4729-98b3-8a1d415ae1f8",
   "metadata": {},
   "outputs": [
    {
     "name": "stdout",
     "output_type": "stream",
     "text": [
      "Tổng tích chập của hai mảng: 32\n"
     ]
    }
   ],
   "source": [
    "arr1 = np.array([1, 2, 3])\n",
    "arr2 = np.array([4, 5, 6])\n",
    "dot_product = np.dot(arr1, arr2)\n",
    "print(\"Tổng tích chập của hai mảng:\", dot_product)"
   ]
  },
  {
   "cell_type": "code",
   "execution_count": null,
   "id": "0ba04413-af44-4a6f-af31-0a4c2b50b137",
   "metadata": {},
   "outputs": [],
   "source": []
  }
 ],
 "metadata": {
  "kernelspec": {
   "display_name": "Python 3 (ipykernel)",
   "language": "python",
   "name": "python3"
  },
  "language_info": {
   "codemirror_mode": {
    "name": "ipython",
    "version": 3
   },
   "file_extension": ".py",
   "mimetype": "text/x-python",
   "name": "python",
   "nbconvert_exporter": "python",
   "pygments_lexer": "ipython3",
   "version": "3.12.4"
  }
 },
 "nbformat": 4,
 "nbformat_minor": 5
}
